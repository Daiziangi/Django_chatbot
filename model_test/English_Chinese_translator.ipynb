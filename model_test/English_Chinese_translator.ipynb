{
 "cells": [
  {
   "cell_type": "code",
   "execution_count": 10,
   "metadata": {},
   "outputs": [],
   "source": [
    "from transformers import pipeline"
   ]
  },
  {
   "cell_type": "code",
   "execution_count": 13,
   "metadata": {},
   "outputs": [
    {
     "name": "stdout",
     "output_type": "stream",
     "text": [
      "[{'translation_text': '你怎么回事?'}]\n",
      "[{'translation_text': 'The moonlight before bed'}]\n"
     ]
    }
   ],
   "source": [
    "# 创建翻译管道\n",
    "translator = pipeline('translation', model='facebook/nllb-200-distilled-600M')\n",
    "\n"
   ]
  },
  {
   "cell_type": "code",
   "execution_count": 14,
   "metadata": {},
   "outputs": [
    {
     "name": "stdout",
     "output_type": "stream",
     "text": [
      "[{'translation_text': '你怎么回事?'}]\n",
      "[{'translation_text': 'The moonlight before bed, probably on the ground.'}]\n"
     ]
    }
   ],
   "source": [
    "# 从英语翻译成汉语\n",
    "output1 = translator('how are you', src_lang='eng_Latn', tgt_lang='zho_Hans')\n",
    "print(output1)\n",
    "#汉翻英\n",
    "output2 = translator('床前明月光,疑是地上霜', src_lang='zho_Hans', tgt_lang='eng_Latn')\n",
    "print(output2)"
   ]
  },
  {
   "cell_type": "code",
   "execution_count": null,
   "metadata": {},
   "outputs": [],
   "source": []
  }
 ],
 "metadata": {
  "kernelspec": {
   "display_name": "cloud",
   "language": "python",
   "name": "python3"
  },
  "language_info": {
   "codemirror_mode": {
    "name": "ipython",
    "version": 3
   },
   "file_extension": ".py",
   "mimetype": "text/x-python",
   "name": "python",
   "nbconvert_exporter": "python",
   "pygments_lexer": "ipython3",
   "version": "3.12.2"
  }
 },
 "nbformat": 4,
 "nbformat_minor": 2
}
