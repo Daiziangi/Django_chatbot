{
 "cells": [
  {
   "cell_type": "code",
   "execution_count": 1,
   "metadata": {},
   "outputs": [
    {
     "name": "stdout",
     "output_type": "stream",
     "text": [
      "Generated prompt: language natural computers processing nlp?\n"
     ]
    },
    {
     "name": "stderr",
     "output_type": "stream",
     "text": [
      "[nltk_data] Downloading package punkt to\n",
      "[nltk_data]     C:\\Users\\lenovo\\AppData\\Roaming\\nltk_data...\n",
      "[nltk_data]   Package punkt is already up-to-date!\n",
      "[nltk_data] Downloading package stopwords to\n",
      "[nltk_data]     C:\\Users\\lenovo\\AppData\\Roaming\\nltk_data...\n",
      "[nltk_data]   Package stopwords is already up-to-date!\n"
     ]
    }
   ],
   "source": [
    "import nltk\n",
    "from nltk.tokenize import sent_tokenize, word_tokenize\n",
    "from nltk.corpus import stopwords\n",
    "from collections import Counter\n",
    "\n",
    "# 下载NLTK需要的数据\n",
    "nltk.download('punkt')\n",
    "nltk.download('stopwords')\n",
    "\n",
    "def preprocess_text(text):\n",
    "    # 将文本转换为小写\n",
    "    text = text.lower()\n",
    "    # 分词\n",
    "    tokens = word_tokenize(text)\n",
    "    # 去除停用词\n",
    "    stop_words = set(stopwords.words('english'))\n",
    "    filtered_tokens = [word for word in tokens if word.isalnum() and word not in stop_words]\n",
    "    return filtered_tokens\n",
    "\n",
    "def extract_keywords(tokens, n=5):\n",
    "    # 提取出现频率最高的前n个词作为关键词\n",
    "    word_freq = Counter(tokens)\n",
    "    keywords = [word for word, _ in word_freq.most_common(n)]\n",
    "    return keywords\n",
    "\n",
    "def generate_prompt(text):\n",
    "    tokens = preprocess_text(text)\n",
    "    keywords = extract_keywords(tokens)\n",
    "    # 生成基于关键词的prompt\n",
    "    prompt = \" \".join(keywords) + \"?\"\n",
    "    return prompt\n",
    "\n",
    "# 输入文本\n",
    "input_text = \"Natural language processing (NLP) is a subfield of linguistics, \" \\\n",
    "             \"computer science, and artificial intelligence concerned with the \" \\\n",
    "             \"interactions between computers and human language, in particular \" \\\n",
    "             \"how to program computers to process and analyze large amounts of natural language data.\"\n",
    "# 生成prompt\n",
    "prompt = generate_prompt(input_text)\n",
    "print(\"Generated prompt:\", prompt)\n"
   ]
  },
  {
   "cell_type": "code",
   "execution_count": 2,
   "metadata": {},
   "outputs": [
    {
     "name": "stdout",
     "output_type": "stream",
     "text": [
      "Generated prompt: 三吏三别?\n"
     ]
    }
   ],
   "source": [
    "# 生成prompt\n",
    "prompt = generate_prompt(\"“三吏三别”指的是杜甫的六部作品，分别是《石壕吏》、《新安吏》、《潼关吏》、《石壕别》、《新婚别》、《垂老别》。这六部作品都是杜甫在安史之乱期间创作的，反映了当时社会的动荡和人民的苦难。 《石壕吏》描述的是石壕吏夜捉人，老妇随往的情境，揭示了当时政治的黑暗和官吏的残暴。 《新安吏》则写的是作者在新安道中所见的丁壮被征发的情景，表达了作者对战争的厌恶和对人民的同情。 《潼关吏》写的是作者途经潼关所见到的紧张而激烈的战争气氛，表现了诗人对国家的忠诚和对战争的无奈。 《石壕别》写的是作者在石壕村与一位老人的告别，表现了作者对老人的同情和对战争的厌恶。 《新婚别》写的是作者在新婚之夜听到征兵的消息，新娘与丈夫的诀别，表达了作者对战争的无奈和对新婚夫妇的同情。 《垂老别》写的是作者与一位老翁的告别，老翁即将奔赴战场，表达了作者对战争的厌恶和对老翁的同情。 这六部作品都是杜甫的代表作，它们反映了杜甫对社会的深刻观察和思考，也展现了他的文学才华和人文关怀。在学习这些作品时，我们应该深入理解其中的思想和情感，感受杜甫的文学魅力。\")\n",
    "print(\"Generated prompt:\", prompt)\n"
   ]
  },
  {
   "cell_type": "code",
   "execution_count": 6,
   "metadata": {},
   "outputs": [
    {
     "name": "stdout",
     "output_type": "stream",
     "text": [
      "生成的prompt: 对，作者，别，战争，杜甫\n"
     ]
    }
   ],
   "source": [
    "import jieba\n",
    "from collections import Counter\n",
    "\n",
    "def preprocess_text(text):\n",
    "    # 使用jieba进行分词\n",
    "    tokens = jieba.cut(text)\n",
    "    # 去除停用词\n",
    "    stop_words = ['的', '了', '是', '在', '和', '有', '不', '我', '你', '他', '她', '它', '我们', '你们', '他们','，','。','？','《','》','！','。','、',\" \"]\n",
    "    filtered_tokens = [word for word in tokens if word not in stop_words]\n",
    "    return filtered_tokens\n",
    "\n",
    "def extract_keywords(tokens, n=5):\n",
    "    # 提取出现频率最高的前n个词作为关键词\n",
    "    word_freq = Counter(tokens)\n",
    "    keywords = [word for word, _ in word_freq.most_common(n)]\n",
    "    return keywords\n",
    "\n",
    "def generate_prompt(text):\n",
    "    tokens = preprocess_text(text)\n",
    "    keywords = extract_keywords(tokens)\n",
    "    # 生成基于关键词的prompt\n",
    "    prompt = \"，\".join(keywords)\n",
    "    return prompt\n",
    "\n",
    "# 生成prompt\n",
    "prompt = generate_prompt(\"“三吏三别”指的是杜甫的六部作品，分别是《石壕吏》、《新安吏》、《潼关吏》、《石壕别》、《新婚别》、《垂老别》。这六部作品都是杜甫在安史之乱期间创作的，反映了当时社会的动荡和人民的苦难。 《石壕吏》描述的是石壕吏夜捉人，老妇随往的情境，揭示了当时政治的黑暗和官吏的残暴。 《新安吏》则写的是作者在新安道中所见的丁壮被征发的情景，表达了作者对战争的厌恶和对人民的同情。 《潼关吏》写的是作者途经潼关所见到的紧张而激烈的战争气氛，表现了诗人对国家的忠诚和对战争的无奈。 《石壕别》写的是作者在石壕村与一位老人的告别，表现了作者对老人的同情和对战争的厌恶。 《新婚别》写的是作者在新婚之夜听到征兵的消息，新娘与丈夫的诀别，表达了作者对战争的无奈和对新婚夫妇的同情。 《垂老别》写的是作者与一位老翁的告别，老翁即将奔赴战场，表达了作者对战争的厌恶和对老翁的同情。 这六部作品都是杜甫的代表作，它们反映了杜甫对社会的深刻观察和思考，也展现了他的文学才华和人文关怀。在学习这些作品时，我们应该深入理解其中的思想和情感，感受杜甫的文学魅力。\")\n",
    "print(\"生成的prompt:\", prompt)\n"
   ]
  },
  {
   "cell_type": "code",
   "execution_count": 6,
   "metadata": {},
   "outputs": [
    {
     "name": "stdout",
     "output_type": "stream",
     "text": [
      "生成的prompt: 对，作者， ，别，战争？\n"
     ]
    }
   ],
   "source": []
  },
  {
   "cell_type": "code",
   "execution_count": null,
   "metadata": {},
   "outputs": [],
   "source": []
  },
  {
   "cell_type": "code",
   "execution_count": null,
   "metadata": {},
   "outputs": [],
   "source": []
  }
 ],
 "metadata": {
  "kernelspec": {
   "display_name": "cloud",
   "language": "python",
   "name": "python3"
  },
  "language_info": {
   "codemirror_mode": {
    "name": "ipython",
    "version": 3
   },
   "file_extension": ".py",
   "mimetype": "text/x-python",
   "name": "python",
   "nbconvert_exporter": "python",
   "pygments_lexer": "ipython3",
   "version": "3.12.2"
  }
 },
 "nbformat": 4,
 "nbformat_minor": 2
}
