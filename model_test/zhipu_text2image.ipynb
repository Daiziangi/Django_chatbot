{
 "cells": [
  {
   "cell_type": "code",
   "execution_count": 7,
   "metadata": {},
   "outputs": [
    {
     "name": "stdout",
     "output_type": "stream",
     "text": [
      "https://sfile.chatglm.cn/testpath/5198a477-5af7-5ddb-80d1-c9b1ee3d7922_0.png\n"
     ]
    }
   ],
   "source": [
    "from zhipuai import ZhipuAI\n",
    "client = ZhipuAI(api_key=\"752c820e46b49c524f1397eb4cb23728.0OM9RWz0OAK0uaxJ\") # 请填写您自己的APIKey\n",
    "\n",
    "response = client.images.generations(\n",
    "    model=\"cogview-3\", #填写需要调用的模型名称\n",
    "    prompt=\"\"\"文生图prompt: \n",
    "1. \"诗佛\"王维在山居小屋前，手握笔墨，身后是秋日斜阳下的山峦，远处竹林摇曳，画面中融入《山居秋暝》的诗意。\n",
    "2. 王维静坐于鹿柴旁，身边是悠闲吃草的鹿群，身后是他的山水画稿，象征《鹿柴》中的禅修意境。\n",
    "3. 明月照在《鸟鸣涧》的石径上，一只鸟儿在画中的古树上鸣叫，展现出夜晚的静谧与禅意。\n",
    "4. 清晨的《竹里馆》，王维独坐竹丛中，手中画卷未完，一缕阳光穿透竹叶洒在他的脸上，体现他的艺术生活。\n",
    "5. 一幅融合了诗与画的《山水长卷》，展现了王维眼中自然的和谐与禅宗的深远，画面细腻，富有诗意。\n",
    "6. 王维在石桌旁，品茶观画，身后是他的山水画作，旁边摆放着《鸟鸣涧》的手稿，展示他的生活态度和创作灵感。\n",
    "7. 以水墨渲染的王维肖像，背景是他最著名的诗句，如“空山不见人，但闻人语响”，展现他的诗人与画家双重身份。\"\"\",\n",
    ")\n",
    "print(response.data[0].url)"
   ]
  },
  {
   "cell_type": "code",
   "execution_count": 8,
   "metadata": {},
   "outputs": [],
   "source": [
    "from zhipuai import ZhipuAI\n",
    "def zhipu(ali_prompt):\n",
    "    client = ZhipuAI(api_key=\"752c820e46b49c524f1397eb4cb23728.0OM9RWz0OAK0uaxJ\") # 请填写您自己的APIKey\n",
    "\n",
    "    response = client.images.generations(\n",
    "        model=\"cogview-3\", #填写需要调用的模型名称\n",
    "        prompt=ali_prompt,\n",
    "    )\n",
    "    print(response.data[0].url)\n",
    "    return response.data[0].url"
   ]
  },
  {
   "cell_type": "code",
   "execution_count": 9,
   "metadata": {},
   "outputs": [
    {
     "name": "stdout",
     "output_type": "stream",
     "text": [
      "https://sfile.chatglm.cn/testpath/1f087af0-c120-5b58-bd50-83989f58f5c9_0.png\n"
     ]
    },
    {
     "data": {
      "text/plain": [
       "'https://sfile.chatglm.cn/testpath/1f087af0-c120-5b58-bd50-83989f58f5c9_0.png'"
      ]
     },
     "execution_count": 9,
     "metadata": {},
     "output_type": "execute_result"
    }
   ],
   "source": [
    "zhipu(\"\"\"文生图prompt: \n",
    "1. \"诗佛\"王维在山居小屋前，手握笔墨，身后是秋日斜阳下的山峦，远处竹林摇曳，画面中融入《山居秋暝》的诗意。\n",
    "2. 王维静坐于鹿柴旁，身边是悠闲吃草的鹿群，身后是他的山水画稿，象征《鹿柴》中的禅修意境。\n",
    "3. 明月照在《鸟鸣涧》的石径上，一只鸟儿在画中的古树上鸣叫，展现出夜晚的静谧与禅意。\n",
    "4. 清晨的《竹里馆》，王维独坐竹丛中，手中画卷未完，一缕阳光穿透竹叶洒在他的脸上，体现他的艺术生活。\n",
    "5. 一幅融合了诗与画的《山水长卷》，展现了王维眼中自然的和谐与禅宗的深远，画面细腻，富有诗意。\n",
    "6. 王维在石桌旁，品茶观画，身后是他的山水画作，旁边摆放着《鸟鸣涧》的手稿，展示他的生活态度和创作灵感。\n",
    "7. 以水墨渲染的王维肖像，背景是他最著名的诗句，如“空山不见人，但闻人语响”，展现他的诗人与画家双重身份。\"\"\")"
   ]
  },
  {
   "cell_type": "code",
   "execution_count": null,
   "metadata": {},
   "outputs": [],
   "source": []
  }
 ],
 "metadata": {
  "kernelspec": {
   "display_name": "cloud",
   "language": "python",
   "name": "python3"
  },
  "language_info": {
   "codemirror_mode": {
    "name": "ipython",
    "version": 3
   },
   "file_extension": ".py",
   "mimetype": "text/x-python",
   "name": "python",
   "nbconvert_exporter": "python",
   "pygments_lexer": "ipython3",
   "version": "3.12.2"
  }
 },
 "nbformat": 4,
 "nbformat_minor": 2
}
