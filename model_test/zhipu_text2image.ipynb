{
 "cells": [
  {
   "cell_type": "code",
   "execution_count": 4,
   "metadata": {},
   "outputs": [
    {
     "name": "stdout",
     "output_type": "stream",
     "text": [
      "https://sfile.chatglm.cn/testpath/56fa3ba0-2b0c-5fa9-bbf2-4e423bc61bfd_0.png\n"
     ]
    }
   ],
   "source": [
    "from zhipuai import ZhipuAI\n",
    "client = ZhipuAI(api_key=\"752c820e46b49c524f1397eb4cb23728.0OM9RWz0OAK0uaxJ\") # 请填写您自己的APIKey\n",
    "\n",
    "response = client.images.generations(\n",
    "    model=\"cogview-3\", #填写需要调用的模型名称\n",
    "    prompt=\"床前明月光,疑是地上霜\",\n",
    ")\n",
    "print(response.data[0].url)"
   ]
  },
  {
   "cell_type": "code",
   "execution_count": null,
   "metadata": {},
   "outputs": [],
   "source": []
  }
 ],
 "metadata": {
  "kernelspec": {
   "display_name": "cloud",
   "language": "python",
   "name": "python3"
  },
  "language_info": {
   "codemirror_mode": {
    "name": "ipython",
    "version": 3
   },
   "file_extension": ".py",
   "mimetype": "text/x-python",
   "name": "python",
   "nbconvert_exporter": "python",
   "pygments_lexer": "ipython3",
   "version": "3.12.2"
  }
 },
 "nbformat": 4,
 "nbformat_minor": 2
}
