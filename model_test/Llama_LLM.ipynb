{
 "cells": [
  {
   "cell_type": "code",
   "execution_count": 1,
   "metadata": {},
   "outputs": [
    {
     "name": "stdout",
     "output_type": "stream",
     "text": [
      "ChatCompletionMessage(content='Llama社区是一个基于AtomGPT技术的聊天机器人社区，旨在为用户提供智能、有趣、实用的聊天体验。用户可以通过Llama社区与机器人进行实时对话，获得各种知识和信息。Llama社区还支持用户自定义机器人，以满足不同用户的需求。', role='assistant', function_call=None, tool_calls=None)\n"
     ]
    }
   ],
   "source": [
    "\n",
    "from openai import OpenAI\n",
    "client = OpenAI(\n",
    "    api_key='sk-4a22f138fd122932484b974af54f4a6c',\n",
    "    base_url=\"https://api.atomecho.cn/v1\",\n",
    ")\n",
    "completion = client.chat.completions.create(\n",
    "  model=\"Atom-7B-Chat\",\n",
    "  messages=[\n",
    "    {\"role\": \"user\", \"content\": \"请介绍一下Llama社区\"}\n",
    "  ],\n",
    "  temperature=0.3,\n",
    ")\n",
    "print(completion.choices[0].message)\n"
   ]
  },
  {
   "cell_type": "code",
   "execution_count": 5,
   "metadata": {},
   "outputs": [],
   "source": [
    "from openai import OpenAI\n",
    "\n",
    "def Llama(message):\n",
    "    client = OpenAI(\n",
    "        api_key='sk-4a22f138fd122932484b974af54f4a6c',\n",
    "        base_url=\"https://api.atomecho.cn/v1\",\n",
    "    )\n",
    "    completion = client.chat.completions.create(\n",
    "    model=\"Atom-7B-Chat\",\n",
    "    messages=[\n",
    "        {\"role\": \"user\", \"content\": message}\n",
    "    ],\n",
    "    temperature=0.3,\n",
    "    )\n",
    "    return completion.choices[0].message.content\n"
   ]
  },
  {
   "cell_type": "code",
   "execution_count": 6,
   "metadata": {},
   "outputs": [
    {
     "data": {
      "text/plain": [
       "'您好，我是Atom，是由原子回声开发的大语言模型，可以帮助您解决问题、回答疑问，提供相关信息和帮助。'"
      ]
     },
     "execution_count": 6,
     "metadata": {},
     "output_type": "execute_result"
    }
   ],
   "source": [
    "message = '你是谁?'\n",
    "res = Llama(message)\n",
    "res"
   ]
  },
  {
   "cell_type": "code",
   "execution_count": 4,
   "metadata": {},
   "outputs": [
    {
     "data": {
      "text/plain": [
       "openai.types.chat.chat_completion_message.ChatCompletionMessage"
      ]
     },
     "execution_count": 4,
     "metadata": {},
     "output_type": "execute_result"
    }
   ],
   "source": []
  },
  {
   "cell_type": "code",
   "execution_count": null,
   "metadata": {},
   "outputs": [],
   "source": []
  }
 ],
 "metadata": {
  "kernelspec": {
   "display_name": "cloud",
   "language": "python",
   "name": "python3"
  },
  "language_info": {
   "codemirror_mode": {
    "name": "ipython",
    "version": 3
   },
   "file_extension": ".py",
   "mimetype": "text/x-python",
   "name": "python",
   "nbconvert_exporter": "python",
   "pygments_lexer": "ipython3",
   "version": "3.12.2"
  }
 },
 "nbformat": 4,
 "nbformat_minor": 2
}
