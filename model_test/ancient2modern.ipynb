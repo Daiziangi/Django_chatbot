{
 "cells": [
  {
   "cell_type": "code",
   "execution_count": 1,
   "metadata": {},
   "outputs": [],
   "source": [
    "from transformers import (\n",
    "  EncoderDecoderModel,\n",
    "  AutoTokenizer\n",
    ")"
   ]
  },
  {
   "cell_type": "code",
   "execution_count": 2,
   "metadata": {},
   "outputs": [],
   "source": [
    "PRETRAINED = \"raynardj/wenyanwen-ancient-translate-to-modern\"\n",
    "tokenizer = AutoTokenizer.from_pretrained(PRETRAINED)\n",
    "model = EncoderDecoderModel.from_pretrained(PRETRAINED)"
   ]
  },
  {
   "cell_type": "code",
   "execution_count": 3,
   "metadata": {},
   "outputs": [],
   "source": [
    "import torch\n",
    "def inference(text):\n",
    "    tk_kwargs = dict(\n",
    "      truncation=True,\n",
    "      max_length=128,\n",
    "      padding=\"max_length\",\n",
    "      return_tensors='pt')\n",
    "    inputs = tokenizer([text,],**tk_kwargs)\n",
    "    with torch.no_grad():\n",
    "        return tokenizer.batch_decode(\n",
    "            model.generate(\n",
    "            inputs.input_ids,\n",
    "            attention_mask=inputs.attention_mask,\n",
    "            num_beams=10,\n",
    "            max_length=256,\n",
    "            bos_token_id=101,\n",
    "            eos_token_id=tokenizer.sep_token_id,\n",
    "            pad_token_id=tokenizer.pad_token_id,\n",
    "        ), skip_special_tokens=True)"
   ]
  },
  {
   "cell_type": "code",
   "execution_count": 5,
   "metadata": {},
   "outputs": [
    {
     "data": {
      "text/plain": [
       "['为 什 么 和 你 相 识 呢 ？ 无 言 泪 流 千 行 。']"
      ]
     },
     "execution_count": 5,
     "metadata": {},
     "output_type": "execute_result"
    }
   ],
   "source": [
    "text = \"何以与君识?无言泪千行!\"\n",
    "inference(text)\n",
    "\n",
    "\n"
   ]
  },
  {
   "cell_type": "code",
   "execution_count": null,
   "metadata": {},
   "outputs": [],
   "source": []
  }
 ],
 "metadata": {
  "kernelspec": {
   "display_name": "cloud",
   "language": "python",
   "name": "python3"
  },
  "language_info": {
   "codemirror_mode": {
    "name": "ipython",
    "version": 3
   },
   "file_extension": ".py",
   "mimetype": "text/x-python",
   "name": "python",
   "nbconvert_exporter": "python",
   "pygments_lexer": "ipython3",
   "version": "3.12.2"
  }
 },
 "nbformat": 4,
 "nbformat_minor": 2
}
