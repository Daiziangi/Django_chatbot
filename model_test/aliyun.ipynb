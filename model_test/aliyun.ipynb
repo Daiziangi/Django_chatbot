{
 "cells": [
  {
   "cell_type": "code",
   "execution_count": 12,
   "metadata": {},
   "outputs": [
    {
     "name": "stdout",
     "output_type": "stream",
     "text": [
      "{\"status_code\": 200, \"request_id\": \"42b42a5d-6f06-966c-acee-fe8de80c7160\", \"code\": \"\", \"message\": \"\", \"output\": {\"text\": null, \"finish_reason\": null, \"choices\": [{\"finish_reason\": \"stop\", \"message\": {\"role\": \"assistant\", \"content\": \"材料：\\n鸡蛋3个，西红柿2个，葱1根，盐适量，糖少许，食用油适量。\\n\\n步骤：\\n\\n1. 鸡蛋打入碗中，加入少许盐，用筷子快速搅拌均匀，让蛋液充分融合，静置一会儿，让气泡排出。\\n\\n2. 西红柿洗净后切成小块，葱洗净后切末备用。\\n\\n3. 热锅凉油，油热后倒入蛋液，用中小火慢慢煎至两面金黄，煎成蛋饼后取出切块。\\n\\n4. 锅中再加少许油，放入葱末爆香。\\n\\n5. 加入西红柿块，用中小火翻煮，边煮边压碎西红柿，直到西红柿出汁。\\n\\n6. 加入适量的盐和糖，根据个人口味调整。糖的作用是中和西红柿的酸味。\\n\\n7. 倒入煎好的鸡蛋块，快速翻炒均匀，让鸡蛋吸收西红柿的汁水，使味道更加浓郁。\\n\\n8. 炒至鸡蛋完全熟透，西红柿软烂即可出锅。\\n\\n9. 西红柿炒鸡蛋就做好了，可以根据个人喜好撒上一些葱花或者香菜提香。\\n\\n注意事项：\\n- 煎蛋时火候不宜过大，以免蛋煎老。\\n- 炒西红柿时不要煮太久，保持其鲜嫩口感。\\n- 糖的量要适中，过多会掩盖西红柿的原味。\"}}]}, \"usage\": {\"input_tokens\": 25, \"output_tokens\": 307, \"total_tokens\": 332}}\n"
     ]
    }
   ],
   "source": [
    "import random\n",
    "from http import HTTPStatus\n",
    "import dashscope\n",
    "import json\n",
    "dashscope.api_key='sk-4f29b919bd594f2d9d89044babe48a38'\n",
    "\n",
    "def call_with_messages():\n",
    "    messages = [{'role': 'system', 'content': 'You are a helpful assistant.'},\n",
    "                {'role': 'user', 'content': '如何做西红柿炒鸡蛋？'}]\n",
    "    response = dashscope.Generation.call(\n",
    "        \"qwen-turbo\",\n",
    "        messages=messages,\n",
    "        # set the random seed, optional, default to 1234 if not set\n",
    "        seed=random.randint(1, 10000),\n",
    "        # set the result to be \"message\" format.\n",
    "        result_format='message',\n",
    "    )\n",
    "    if response.status_code == HTTPStatus.OK:\n",
    "        print(response)\n",
    "    else:\n",
    "        print('Request id: %s, Status code: %s, error code: %s, error message: %s' % (\n",
    "            response.request_id, response.status_code,\n",
    "            response.code, response.message\n",
    "        ))\n",
    "    return response[\"output\"][\"choices\"][0][\"message\"][\"content\"]\n",
    "\n",
    "# if __name__ == '__main__':\n",
    "#     call_with_messages()"
   ]
  },
  {
   "cell_type": "code",
   "execution_count": 14,
   "metadata": {},
   "outputs": [
    {
     "name": "stdout",
     "output_type": "stream",
     "text": [
      "{\"status_code\": 200, \"request_id\": \"c2fe9bc5-3db0-93ec-8580-cc7193e15622\", \"code\": \"\", \"message\": \"\", \"output\": {\"text\": null, \"finish_reason\": null, \"choices\": [{\"finish_reason\": \"stop\", \"message\": {\"role\": \"assistant\", \"content\": \"材料：\\n西红柿2个，鸡蛋3个，食用油适量，盐适量，糖适量，葱花适量。\\n\\n步骤：\\n\\n1. 西红柿洗净后切成块状，鸡蛋打入碗中搅拌均匀备用。\\n2. 热锅凉油，油热后倒入打散的鸡蛋液，用筷子或者铲子快速搅拌，炒至鸡蛋凝固成块，盛出备用。\\n3. 锅中再加入适量的油，放入切好的西红柿块，中小火慢慢翻煮，让西红柿出汁。\\n4. 当西红柿软烂出汁时，加入适量的糖，可以中和西红柿的酸味，同时也能提升菜品的口感。\\n5. 炒至西红柿汁水浓郁时，将炒好的鸡蛋块倒入锅中，与西红柿充分混合，翻煮均匀。\\n6. 加入适量的盐调味，根据个人口味调整。\\n7. 最后撒上葱花，翻炒均匀即可出锅。\\n\\n西红柿炒鸡蛋就做好了，这是一道色香味俱全的家常菜，简单易做，营养丰富。\"}}]}, \"usage\": {\"input_tokens\": 25, \"output_tokens\": 229, \"total_tokens\": 254}}\n",
      "材料：\n",
      "西红柿2个，鸡蛋3个，食用油适量，盐适量，糖适量，葱花适量。\n",
      "\n",
      "步骤：\n",
      "\n",
      "1. 西红柿洗净后切成块状，鸡蛋打入碗中搅拌均匀备用。\n",
      "2. 热锅凉油，油热后倒入打散的鸡蛋液，用筷子或者铲子快速搅拌，炒至鸡蛋凝固成块，盛出备用。\n",
      "3. 锅中再加入适量的油，放入切好的西红柿块，中小火慢慢翻煮，让西红柿出汁。\n",
      "4. 当西红柿软烂出汁时，加入适量的糖，可以中和西红柿的酸味，同时也能提升菜品的口感。\n",
      "5. 炒至西红柿汁水浓郁时，将炒好的鸡蛋块倒入锅中，与西红柿充分混合，翻煮均匀。\n",
      "6. 加入适量的盐调味，根据个人口味调整。\n",
      "7. 最后撒上葱花，翻炒均匀即可出锅。\n",
      "\n",
      "西红柿炒鸡蛋就做好了，这是一道色香味俱全的家常菜，简单易做，营养丰富。\n"
     ]
    }
   ],
   "source": [
    "message = call_with_messages()\n",
    "print(message)"
   ]
  },
  {
   "cell_type": "code",
   "execution_count": null,
   "metadata": {},
   "outputs": [],
   "source": []
  }
 ],
 "metadata": {
  "kernelspec": {
   "display_name": "cloud",
   "language": "python",
   "name": "python3"
  },
  "language_info": {
   "codemirror_mode": {
    "name": "ipython",
    "version": 3
   },
   "file_extension": ".py",
   "mimetype": "text/x-python",
   "name": "python",
   "nbconvert_exporter": "python",
   "pygments_lexer": "ipython3",
   "version": "3.12.2"
  }
 },
 "nbformat": 4,
 "nbformat_minor": 2
}
