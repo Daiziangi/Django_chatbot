{
 "cells": [
  {
   "cell_type": "code",
   "execution_count": 7,
   "metadata": {},
   "outputs": [],
   "source": [
    "import random\n",
    "from http import HTTPStatus\n",
    "import dashscope\n",
    "import json\n",
    "dashscope.api_key='sk-4f29b919bd594f2d9d89044babe48a38'\n",
    "\n",
    "def call_with_messages():\n",
    "    messages = [{'role': 'system', 'content': \"\"\"你是一个文生图的prompt适配器,接下来我会将中国古代文化内容传递给你,你需要从中提取出可以形象化表现我传递于你的内容的文生图prompt,并只返回给我对应的prompt.\n",
    "                 (如果发给你的是人物则要求能够画出其画像,如果是诗词语句则能够形象化地表现出其中的内容和场景). 请强烈注意,请直接返回给我对应用于文生图的prompt里的内容,不要包含其他任何东西(包括如'prompt'和'文生图prompt'的字样)\"\"\"},\n",
    "                {'role': 'user', 'content': \"\"\"明月山间照,清泉石上流\n",
    "                 \"\"\"}]\n",
    "    response = dashscope.Generation.call(\n",
    "        \"qwen-turbo\",\n",
    "        messages=messages,\n",
    "        # set the random seed, optional, default to 1234 if not set\n",
    "        seed=random.randint(1, 10000),\n",
    "        # set the result to be \"message\" format.\n",
    "        result_format='message',\n",
    "    )\n",
    "    if response.status_code == HTTPStatus.OK:\n",
    "        print(response)\n",
    "    else:\n",
    "        print('Request id: %s, Status code: %s, error code: %s, error message: %s' % (\n",
    "            response.request_id, response.status_code,\n",
    "            response.code, response.message\n",
    "        ))\n",
    "    return response[\"output\"][\"choices\"][0][\"message\"][\"content\"]\n",
    "\n",
    "# if __name__ == '__main__':\n",
    "#     call_with_messages()"
   ]
  },
  {
   "cell_type": "code",
   "execution_count": 8,
   "metadata": {},
   "outputs": [
    {
     "name": "stdout",
     "output_type": "stream",
     "text": [
      "{\"status_code\": 200, \"request_id\": \"77cbdb77-de01-990a-8470-76669f6f64a1\", \"code\": \"\", \"message\": \"\", \"output\": {\"text\": null, \"finish_reason\": null, \"choices\": [{\"finish_reason\": \"stop\", \"message\": {\"role\": \"assistant\", \"content\": \"文生图prompt: 在月光皎洁的山峦间，一道明亮的月影洒落，照亮蜿蜒曲折的山径。山泉潺潺，从青石上流淌而过，形成闪烁着银色光华的水帘，与周围的静谧树林相互映衬。画面中心描绘一弯明月高悬，近处是清澈见底的泉水在石头上跳跃，营造出宁静而生动的山水画卷。\"}}]}, \"usage\": {\"input_tokens\": 140, \"output_tokens\": 96, \"total_tokens\": 236}}\n",
      "文生图prompt: 在月光皎洁的山峦间，一道明亮的月影洒落，照亮蜿蜒曲折的山径。山泉潺潺，从青石上流淌而过，形成闪烁着银色光华的水帘，与周围的静谧树林相互映衬。画面中心描绘一弯明月高悬，近处是清澈见底的泉水在石头上跳跃，营造出宁静而生动的山水画卷。\n"
     ]
    }
   ],
   "source": [
    "message = call_with_messages()\n",
    "print(message)"
   ]
  },
  {
   "cell_type": "code",
   "execution_count": null,
   "metadata": {},
   "outputs": [],
   "source": []
  }
 ],
 "metadata": {
  "kernelspec": {
   "display_name": "cloud",
   "language": "python",
   "name": "python3"
  },
  "language_info": {
   "codemirror_mode": {
    "name": "ipython",
    "version": 3
   },
   "file_extension": ".py",
   "mimetype": "text/x-python",
   "name": "python",
   "nbconvert_exporter": "python",
   "pygments_lexer": "ipython3",
   "version": "3.12.2"
  }
 },
 "nbformat": 4,
 "nbformat_minor": 2
}
