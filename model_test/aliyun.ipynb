{
 "cells": [
  {
   "cell_type": "code",
   "execution_count": 14,
   "metadata": {},
   "outputs": [],
   "source": [
    "import random\n",
    "from http import HTTPStatus\n",
    "import dashscope\n",
    "import json\n",
    "dashscope.api_key='sk-4f29b919bd594f2d9d89044babe48a38'\n",
    "\n",
    "def call_with_messages():\n",
    "    messages = [{'role': 'system', 'content': \"\"\"你是一个文生图的prompt适配器,接下来我会将中国古代文化内容传递给你,你需要从中提取出可以形象化表现我传递于你的内容的文生图prompt,并只返回给我对应的prompt.\n",
    "                 (如果发给你的是人物则要求能够画出其画像,如果是诗词语句则能够形象化地表现出其中的内容和场景). 请强烈注意,请直接返回给我对应用于文生图的prompt里的内容,不要包含其他任何东西(包括如'prompt'和'文生图prompt'的字样)\"\"\"},\n",
    "                {'role': 'user', 'content': \"\"\"当然可以。王维，字摩诘，号摩诘居士，河东（今山西运城）人。\n",
    "                 他是唐朝著名的诗人、画家，与孟浩然并称“王孟”，有“诗佛”之称。王维的诗以山水田园诗为主，多描绘自然风景和隐逸生活，意境深远，语言优美。\n",
    "                 他的诗风清新自然，充满了禅意和哲理，对后世影响深远。 王维的诗歌中，有很多描绘自然风光的作品，如《山居秋暝》、《鸟鸣涧》等，这些诗歌通过描绘山水、草木、花鸟等自然元素，表达了诗人对自然的热爱和对人生的感悟。\n",
    "                 同时，他的诗歌也充满了禅意，如《鹿柴》、《竹里馆》等，这些诗歌通过描绘禅修、禅境，表达了诗人对禅宗的领悟和对人生的思考。 \n",
    "                 王维不仅在诗歌方面有着卓越的成就，他还是一位杰出的画家。他的画作以山水画为主，风格清新自然，充满了禅意和哲理。他的画作与诗歌相互呼应，共同展现了他对自然、人生和禅宗的深刻理解和感悟。 \n",
    "                 王维的一生，可以说是充满了传奇色彩。他少年时便才华出众，后来隐居山林，过着清贫而宁静的生活。他的诗歌和画作，都充满了对自然、人生和禅宗的热爱和追求。\n",
    "                 他的诗歌和画作，不仅在当时受到了广泛的赞誉，而且对后世产生了深远的影响。 王维的诗歌和画作，是中国古代文化宝库中的珍贵遗产。\n",
    "                 他的诗歌和画作，不仅展现了他的艺术才华，更展现了他的人格魅力和精神追求。通过学习和欣赏王维的诗歌和画作，我们可以更好地了解中国古代文化，感受中国古代文人的精神世界。\"\"\"}]\n",
    "    response = dashscope.Generation.call(\n",
    "        \"qwen-turbo\",\n",
    "        messages=messages,\n",
    "        # set the random seed, optional, default to 1234 if not set\n",
    "        seed=random.randint(1, 10000),\n",
    "        # set the result to be \"message\" format.\n",
    "        result_format='message',\n",
    "    )\n",
    "    if response.status_code == HTTPStatus.OK:\n",
    "        print(response)\n",
    "    else:\n",
    "        print('Request id: %s, Status code: %s, error code: %s, error message: %s' % (\n",
    "            response.request_id, response.status_code,\n",
    "            response.code, response.message\n",
    "        ))\n",
    "    return response[\"output\"][\"choices\"][0][\"message\"][\"content\"]\n",
    "\n",
    "# if __name__ == '__main__':\n",
    "#     call_with_messages()"
   ]
  },
  {
   "cell_type": "code",
   "execution_count": 15,
   "metadata": {},
   "outputs": [
    {
     "name": "stdout",
     "output_type": "stream",
     "text": [
      "{\"status_code\": 200, \"request_id\": \"7ecd8ae7-bbe2-94c6-a110-d36628d00083\", \"code\": \"\", \"message\": \"\", \"output\": {\"text\": null, \"finish_reason\": null, \"choices\": [{\"finish_reason\": \"stop\", \"message\": {\"role\": \"assistant\", \"content\": \"文生图prompt: \\n1. \\\"诗佛\\\"王维在山居小屋前，手握笔墨，身后是秋日斜阳下的山峦，远处竹林摇曳，画面中融入《山居秋暝》的诗意。\\n2. 王维静坐于鹿柴旁，身边是悠闲吃草的鹿群，身后是他的山水画稿，象征《鹿柴》中的禅修意境。\\n3. 明月照在《鸟鸣涧》的石径上，一只鸟儿在画中的古树上鸣叫，展现出夜晚的静谧与禅意。\\n4. 清晨的《竹里馆》，王维独坐竹丛中，手中画卷未完，一缕阳光穿透竹叶洒在他的脸上，体现他的艺术生活。\\n5. 一幅融合了诗与画的《山水长卷》，展现了王维眼中自然的和谐与禅宗的深远，画面细腻，富有诗意。\\n6. 王维在石桌旁，品茶观画，身后是他的山水画作，旁边摆放着《鸟鸣涧》的手稿，展示他的生活态度和创作灵感。\\n7. 以水墨渲染的王维肖像，背景是他最著名的诗句，如“空山不见人，但闻人语响”，展现他的诗人与画家双重身份。\"}}]}, \"usage\": {\"input_tokens\": 522, \"output_tokens\": 285, \"total_tokens\": 807}}\n",
      "文生图prompt: \n",
      "1. \"诗佛\"王维在山居小屋前，手握笔墨，身后是秋日斜阳下的山峦，远处竹林摇曳，画面中融入《山居秋暝》的诗意。\n",
      "2. 王维静坐于鹿柴旁，身边是悠闲吃草的鹿群，身后是他的山水画稿，象征《鹿柴》中的禅修意境。\n",
      "3. 明月照在《鸟鸣涧》的石径上，一只鸟儿在画中的古树上鸣叫，展现出夜晚的静谧与禅意。\n",
      "4. 清晨的《竹里馆》，王维独坐竹丛中，手中画卷未完，一缕阳光穿透竹叶洒在他的脸上，体现他的艺术生活。\n",
      "5. 一幅融合了诗与画的《山水长卷》，展现了王维眼中自然的和谐与禅宗的深远，画面细腻，富有诗意。\n",
      "6. 王维在石桌旁，品茶观画，身后是他的山水画作，旁边摆放着《鸟鸣涧》的手稿，展示他的生活态度和创作灵感。\n",
      "7. 以水墨渲染的王维肖像，背景是他最著名的诗句，如“空山不见人，但闻人语响”，展现他的诗人与画家双重身份。\n"
     ]
    }
   ],
   "source": [
    "message = call_with_messages()\n",
    "print(message)"
   ]
  },
  {
   "cell_type": "code",
   "execution_count": null,
   "metadata": {},
   "outputs": [],
   "source": []
  }
 ],
 "metadata": {
  "kernelspec": {
   "display_name": "cloud",
   "language": "python",
   "name": "python3"
  },
  "language_info": {
   "codemirror_mode": {
    "name": "ipython",
    "version": 3
   },
   "file_extension": ".py",
   "mimetype": "text/x-python",
   "name": "python",
   "nbconvert_exporter": "python",
   "pygments_lexer": "ipython3",
   "version": "3.12.2"
  }
 },
 "nbformat": 4,
 "nbformat_minor": 2
}
