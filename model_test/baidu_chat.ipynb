{
 "cells": [
  {
   "cell_type": "code",
   "execution_count": 2,
   "metadata": {},
   "outputs": [],
   "source": [
    "import requests\n",
    "import json\n",
    "\n"
   ]
  },
  {
   "cell_type": "code",
   "execution_count": 3,
   "metadata": {},
   "outputs": [
    {
     "name": "stdout",
     "output_type": "stream",
     "text": [
      "{\"id\":\"as-xwwsgnqg2u\",\"object\":\"chat.completion\",\"created\":1712244053,\"result\":\"“醉翁之意不在酒”确实是一句含义深远且富含哲理的诗句。这句出自北宋文学家欧阳修的《醉翁亭记》。在文章中，这句话的本意是说醉翁的兴趣不在于喝酒，而在于欣赏山水的景色，领会与民同乐的意趣。但实际上，它已超越了文章本身，成为了中华文化中表达真实意图并非表面行为的一句名言。\\n\\n这句诗词告诫人们，不要被表面的现象所迷惑，要洞察其背后真实的意图。例如，当我们与他人交往时，不应该只看重他们的表面言辞或行为，而要用心去感受他们的真实想法和意图。这种洞察不仅能帮助我们更好地理解他人，也能让我们更准确地把握事物的本质。\\n\\n所以，当我们遇到“醉翁之意不在酒”这样的句子时，不妨多思考其背后的深意，让自己更加成熟和睿智。\",\"is_truncated\":false,\"need_clear_history\":false,\"usage\":{\"prompt_tokens\":24,\"completion_tokens\":187,\"total_tokens\":211}}\n",
      "“醉翁之意不在酒”确实是一句含义深远且富含哲理的诗句。这句出自北宋文学家欧阳修的《醉翁亭记》。在文章中，这句话的本意是说醉翁的兴趣不在于喝酒，而在于欣赏山水的景色，领会与民同乐的意趣。但实际上，它已超越了文章本身，成为了中华文化中表达真实意图并非表面行为的一句名言。\n",
      "\n",
      "这句诗词告诫人们，不要被表面的现象所迷惑，要洞察其背后真实的意图。例如，当我们与他人交往时，不应该只看重他们的表面言辞或行为，而要用心去感受他们的真实想法和意图。这种洞察不仅能帮助我们更好地理解他人，也能让我们更准确地把握事物的本质。\n",
      "\n",
      "所以，当我们遇到“醉翁之意不在酒”这样的句子时，不妨多思考其背后的深意，让自己更加成熟和睿智。\n"
     ]
    }
   ],
   "source": [
    "API_KEY = \"zrpJizLeTwQ3plXyhvV2RoBw\"\n",
    "SECRET_KEY = \"ZdRKOqJzMEr5pZmJJnnmv29xcYkfAr2X\"\n",
    "# result = \"\"\n",
    "def main():\n",
    "        \n",
    "    url = \"https://aip.baidubce.com/rpc/2.0/ai_custom/v1/wenxinworkshop/chat/ernie-speed-128k?access_token=\" + get_access_token()\n",
    "    # message = input() #输入\n",
    "    message = \"醉翁之意不在酒\" #输入\n",
    "    payload = json.dumps({\n",
    "        \"messages\": [\n",
    "            {\n",
    "                \"role\": \"user\",\n",
    "                \"content\": message\n",
    "            }\n",
    "        ],\n",
    "        \"system\": \"你是一个中国古代诗词专家及教师,接下来请帮助我理解和记忆各个诗词和古文\"\n",
    "    })\n",
    "    headers = {\n",
    "        'Content-Type': 'application/json'\n",
    "    }\n",
    "    \n",
    "    response = requests.request(\"POST\", url, headers=headers, data=payload)\n",
    "    \n",
    "    print(response.text)\n",
    "    res = response.json()\n",
    "    # print(res)\n",
    "    print(res[\"result\"])\n",
    "def get_access_token():\n",
    "    \"\"\"\n",
    "    使用 AK，SK 生成鉴权签名（Access Token）\n",
    "    :return: access_token，或是None(如果错误)\n",
    "    \"\"\"\n",
    "    url = \"https://aip.baidubce.com/oauth/2.0/token\"\n",
    "    params = {\"grant_type\": \"client_credentials\", \"client_id\": API_KEY, \"client_secret\": SECRET_KEY}\n",
    "    return str(requests.post(url, params=params).json().get(\"access_token\"))\n",
    "\n",
    "if __name__ == '__main__':\n",
    "    main()"
   ]
  },
  {
   "cell_type": "code",
   "execution_count": null,
   "metadata": {},
   "outputs": [
    {
     "data": {
      "text/plain": [
       "'d'"
      ]
     },
     "execution_count": 13,
     "metadata": {},
     "output_type": "execute_result"
    }
   ],
   "source": [
    "result"
   ]
  },
  {
   "cell_type": "code",
   "execution_count": null,
   "metadata": {},
   "outputs": [],
   "source": [
    "# [\n",
    "#             {\n",
    "#                 \"role\" : \"user\" ,\n",
    "#                 \"content\" : \"你好\"\n",
    "#             }\n",
    "\n",
    "#         ]"
   ]
  }
 ],
 "metadata": {
  "kernelspec": {
   "display_name": "cloud",
   "language": "python",
   "name": "python3"
  },
  "language_info": {
   "codemirror_mode": {
    "name": "ipython",
    "version": 3
   },
   "file_extension": ".py",
   "mimetype": "text/x-python",
   "name": "python",
   "nbconvert_exporter": "python",
   "pygments_lexer": "ipython3",
   "version": "3.12.2"
  }
 },
 "nbformat": 4,
 "nbformat_minor": 2
}
