{
 "cells": [
  {
   "cell_type": "code",
   "execution_count": 1,
   "metadata": {},
   "outputs": [],
   "source": [
    "import os\n",
    "import json\n",
    "import jsonlines  # 需要安装 jsonlines 库，pip install jsonlines\n",
    "\n"
   ]
  },
  {
   "cell_type": "code",
   "execution_count": 2,
   "metadata": {},
   "outputs": [],
   "source": [
    "def convert_json_to_jsonl(input_folder, output_folder):\n",
    "    # 确保输出文件夹存在，如果不存在则创建\n",
    "    if not os.path.exists(output_folder):\n",
    "        os.makedirs(output_folder)\n",
    "\n",
    "    # 遍历输入文件夹及其所有子文件夹中的所有文件\n",
    "    for root, dirs, files in os.walk(input_folder):\n",
    "        for file in files:\n",
    "            if file.endswith(\".json\"):\n",
    "                input_file_path = os.path.join(root, file)\n",
    "                \n",
    "                # 构建输出文件的路径\n",
    "                output_filename = f\"{os.path.splitext(file)[0]}.jsonl\"\n",
    "                output_file_path = os.path.join(output_folder, output_filename)\n",
    "                \n",
    "                # 检查是否存在同名文件，若存在则自动编号\n",
    "                counter = 1\n",
    "                while os.path.exists(output_file_path):\n",
    "                    base_name = os.path.splitext(output_filename)[0]\n",
    "                    new_base_name = f\"{base_name}_{counter}\"\n",
    "                    output_filename = f\"{new_base_name}.jsonl\"\n",
    "                    output_file_path = os.path.join(output_folder, output_filename)\n",
    "                    counter += 1\n",
    "\n",
    "                # 打开 JSON 文件进行读取和写入\n",
    "                with open(input_file_path, \"r\", encoding=\"utf-8\") as json_file:\n",
    "                    data = json.load(json_file)\n",
    "\n",
    "                # 写入到 JSON Lines 文件\n",
    "                with jsonlines.open(output_file_path, \"w\") as jsonl_file:\n",
    "                    if isinstance(data, list):\n",
    "                        jsonl_file.write_all(data)\n",
    "                    else:\n",
    "                        jsonl_file.write(data)\n",
    "\n",
    "                print(f\"Converted {input_file_path} to {output_file_path}\")"
   ]
  },
  {
   "cell_type": "code",
   "execution_count": 4,
   "metadata": {},
   "outputs": [
    {
     "name": "stdout",
     "output_type": "stream",
     "text": [
      "Converted E:\\下载\\chinese-poetry-master\\chinese-poetry-master\\mengxue\\古文观止.json to E:\\下载\\chinese-poetry-master\\to_jsonl\\古文观止.jsonl\n",
      "Converted E:\\下载\\chinese-poetry-master\\chinese-poetry-master\\mengxue\\幼学琼林.json to E:\\下载\\chinese-poetry-master\\to_jsonl\\幼学琼林.jsonl\n",
      "Converted E:\\下载\\chinese-poetry-master\\chinese-poetry-master\\mengxue\\文字蒙求.json to E:\\下载\\chinese-poetry-master\\to_jsonl\\文字蒙求.jsonl\n",
      "Converted E:\\下载\\chinese-poetry-master\\chinese-poetry-master\\五代的词\\data.json to E:\\下载\\chinese-poetry-master\\to_jsonl\\data.jsonl\n",
      "Converted E:\\下载\\chinese-poetry-master\\chinese-poetry-master\\元曲\\data.json to E:\\下载\\chinese-poetry-master\\to_jsonl\\data_1.jsonl\n",
      "Converted E:\\下载\\chinese-poetry-master\\chinese-poetry-master\\千家诗\\data.json to E:\\下载\\chinese-poetry-master\\to_jsonl\\data_1_2.jsonl\n",
      "Converted E:\\下载\\chinese-poetry-master\\chinese-poetry-master\\唐诗\\data1.json to E:\\下载\\chinese-poetry-master\\to_jsonl\\data1.jsonl\n",
      "Converted E:\\下载\\chinese-poetry-master\\chinese-poetry-master\\唐诗\\data2.json to E:\\下载\\chinese-poetry-master\\to_jsonl\\data2.jsonl\n",
      "Converted E:\\下载\\chinese-poetry-master\\chinese-poetry-master\\唐诗\\data3.json to E:\\下载\\chinese-poetry-master\\to_jsonl\\data3.jsonl\n",
      "Converted E:\\下载\\chinese-poetry-master\\chinese-poetry-master\\唐诗\\data4.json to E:\\下载\\chinese-poetry-master\\to_jsonl\\data4.jsonl\n",
      "Converted E:\\下载\\chinese-poetry-master\\chinese-poetry-master\\唐诗\\data5.json to E:\\下载\\chinese-poetry-master\\to_jsonl\\data5.jsonl\n",
      "Converted E:\\下载\\chinese-poetry-master\\chinese-poetry-master\\四书五经\\data.json to E:\\下载\\chinese-poetry-master\\to_jsonl\\data_1_2_3.jsonl\n",
      "Converted E:\\下载\\chinese-poetry-master\\chinese-poetry-master\\宋词\\data.json to E:\\下载\\chinese-poetry-master\\to_jsonl\\data_1_2_3_4.jsonl\n",
      "Converted E:\\下载\\chinese-poetry-master\\chinese-poetry-master\\宋词\\data2.json to E:\\下载\\chinese-poetry-master\\to_jsonl\\data2_1.jsonl\n",
      "Converted E:\\下载\\chinese-poetry-master\\chinese-poetry-master\\幽梦影\\data.json to E:\\下载\\chinese-poetry-master\\to_jsonl\\data_1_2_3_4_5.jsonl\n",
      "Converted E:\\下载\\chinese-poetry-master\\chinese-poetry-master\\曹操诗集\\data.json to E:\\下载\\chinese-poetry-master\\to_jsonl\\data_1_2_3_4_5_6.jsonl\n",
      "Converted E:\\下载\\chinese-poetry-master\\chinese-poetry-master\\楚辞\\data.json to E:\\下载\\chinese-poetry-master\\to_jsonl\\data_1_2_3_4_5_6_7.jsonl\n",
      "Converted E:\\下载\\chinese-poetry-master\\chinese-poetry-master\\纳兰性德\\data.json to E:\\下载\\chinese-poetry-master\\to_jsonl\\data_1_2_3_4_5_6_7_8.jsonl\n",
      "Converted E:\\下载\\chinese-poetry-master\\chinese-poetry-master\\蒙学\\data.json to E:\\下载\\chinese-poetry-master\\to_jsonl\\data_1_2_3_4_5_6_7_8_9.jsonl\n",
      "Converted E:\\下载\\chinese-poetry-master\\chinese-poetry-master\\蒙学\\声律启蒙.json to E:\\下载\\chinese-poetry-master\\to_jsonl\\声律启蒙.jsonl\n",
      "Converted E:\\下载\\chinese-poetry-master\\chinese-poetry-master\\论语\\data.json to E:\\下载\\chinese-poetry-master\\to_jsonl\\data_1_2_3_4_5_6_7_8_9_10.jsonl\n",
      "Converted E:\\下载\\chinese-poetry-master\\chinese-poetry-master\\诗经\\data.json to E:\\下载\\chinese-poetry-master\\to_jsonl\\data_1_2_3_4_5_6_7_8_9_10_11.jsonl\n"
     ]
    }
   ],
   "source": [
    "# 指定输入文件夹和输出文件夹的路径，注意使用原始字符串或手动转义反斜杠\n",
    "input_folder_path = r\"E:\\下载\\chinese-poetry-master\"\n",
    "output_folder_path = r\"E:\\下载\\chinese-poetry-master\\to_jsonl\"\n",
    "\n",
    "# 调用函数进行转换\n",
    "convert_json_to_jsonl(input_folder_path, output_folder_path)"
   ]
  },
  {
   "cell_type": "code",
   "execution_count": null,
   "metadata": {},
   "outputs": [],
   "source": []
  }
 ],
 "metadata": {
  "kernelspec": {
   "display_name": "cloud",
   "language": "python",
   "name": "python3"
  },
  "language_info": {
   "codemirror_mode": {
    "name": "ipython",
    "version": 3
   },
   "file_extension": ".py",
   "mimetype": "text/x-python",
   "name": "python",
   "nbconvert_exporter": "python",
   "pygments_lexer": "ipython3",
   "version": "3.12.2"
  }
 },
 "nbformat": 4,
 "nbformat_minor": 2
}
